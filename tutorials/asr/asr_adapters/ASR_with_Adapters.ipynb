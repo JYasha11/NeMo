{
  "cells": [
    {
      "cell_type": "code",
      "execution_count": 1,
      "metadata": {
        "id": "pEYsuj0J9pId"
      },
      "outputs": [
        {
          "name": "stdout",
          "output_type": "stream",
          "text": [
            "Collecting wget\n",
            "  Using cached wget-3.2.zip (10 kB)\n",
            "  Preparing metadata (setup.py): started\n",
            "  Preparing metadata (setup.py): finished with status 'done'\n",
            "Building wheels for collected packages: wget\n",
            "  Building wheel for wget (setup.py): started\n",
            "  Building wheel for wget (setup.py): finished with status 'done'\n",
            "  Created wheel for wget: filename=wget-3.2-py3-none-any.whl size=9680 sha256=3d38fab4533ccce96fbb8794f22e51a42b0f8dbb1ef6c5847fd7169cc6bf8720\n",
            "  Stored in directory: c:\\users\\j\\appdata\\local\\pip\\cache\\wheels\\8b\\f1\\7f\\5c94f0a7a505ca1c81cd1d9208ae2064675d97582078e6c769\n",
            "Successfully built wget\n",
            "Installing collected packages: wget\n",
            "Successfully installed wget-3.2\n"
          ]
        },
        {
          "name": "stderr",
          "output_type": "stream",
          "text": [
            "'apt-get' is not recognized as an internal or external command,\n",
            "operable program or batch file.\n"
          ]
        },
        {
          "name": "stdout",
          "output_type": "stream",
          "text": [
            "Collecting text-unidecode\n",
            "  Using cached text_unidecode-1.3-py2.py3-none-any.whl.metadata (2.4 kB)\n",
            "Using cached text_unidecode-1.3-py2.py3-none-any.whl (78 kB)\n",
            "Installing collected packages: text-unidecode\n",
            "Successfully installed text-unidecode-1.3\n",
            "Collecting nemo_toolkit (from nemo_toolkit[all])\n",
            "  Cloning https://github.com/NVIDIA/NeMo.git (to revision main) to c:\\users\\j\\appdata\\local\\temp\\pip-install-us33ewmk\\nemo-toolkit_4f123f1bc5b24a54826552fd4101c303\n",
            "  Resolved https://github.com/NVIDIA/NeMo.git to commit 64756a8b03e806fafdecdc4023adb0424d525b23\n",
            "  Installing build dependencies: started\n",
            "  Installing build dependencies: finished with status 'done'\n",
            "  Getting requirements to build wheel: started\n",
            "  Getting requirements to build wheel: finished with status 'done'\n",
            "  Preparing metadata (pyproject.toml): started\n",
            "  Preparing metadata (pyproject.toml): finished with status 'done'\n",
            "Collecting huggingface-hub>=0.24 (from nemo_toolkit->nemo_toolkit[all])\n",
            "  Using cached huggingface_hub-0.25.2-py3-none-any.whl.metadata (13 kB)\n",
            "Collecting numba (from nemo_toolkit->nemo_toolkit[all])\n",
            "  Downloading numba-0.60.0-cp310-cp310-win_amd64.whl.metadata (2.8 kB)\n",
            "Requirement already satisfied: numpy>=1.22 in c:\\users\\j\\anaconda3\\envs\\nemo\\lib\\site-packages (from nemo_toolkit->nemo_toolkit[all]) (2.0.1)\n",
            "Collecting onnx>=1.7.0 (from nemo_toolkit->nemo_toolkit[all])\n",
            "  Downloading onnx-1.17.0-cp310-cp310-win_amd64.whl.metadata (16 kB)\n",
            "Requirement already satisfied: python-dateutil in c:\\users\\j\\appdata\\roaming\\python\\python310\\site-packages (from nemo_toolkit->nemo_toolkit[all]) (2.8.2)\n",
            "Collecting ruamel.yaml (from nemo_toolkit->nemo_toolkit[all])\n",
            "  Using cached ruamel.yaml-0.18.6-py3-none-any.whl.metadata (23 kB)\n",
            "Collecting scikit-learn (from nemo_toolkit->nemo_toolkit[all])\n",
            "  Downloading scikit_learn-1.5.2-cp310-cp310-win_amd64.whl.metadata (13 kB)\n",
            "Requirement already satisfied: setuptools>=70.0.0 in c:\\users\\j\\anaconda3\\envs\\nemo\\lib\\site-packages (from nemo_toolkit->nemo_toolkit[all]) (75.1.0)\n",
            "Collecting tensorboard (from nemo_toolkit->nemo_toolkit[all])\n",
            "  Using cached tensorboard-2.18.0-py3-none-any.whl.metadata (1.6 kB)\n",
            "Requirement already satisfied: text-unidecode in c:\\users\\j\\anaconda3\\envs\\nemo\\lib\\site-packages (from nemo_toolkit->nemo_toolkit[all]) (1.3)\n",
            "Requirement already satisfied: torch in c:\\users\\j\\anaconda3\\envs\\nemo\\lib\\site-packages (from nemo_toolkit->nemo_toolkit[all]) (2.4.1)\n",
            "Collecting tqdm>=4.41.0 (from nemo_toolkit->nemo_toolkit[all])\n",
            "  Downloading tqdm-4.66.5-py3-none-any.whl.metadata (57 kB)\n",
            "Requirement already satisfied: wget in c:\\users\\j\\anaconda3\\envs\\nemo\\lib\\site-packages (from nemo_toolkit->nemo_toolkit[all]) (3.2)\n",
            "Collecting wrapt (from nemo_toolkit->nemo_toolkit[all])\n",
            "  Downloading wrapt-1.16.0-cp310-cp310-win_amd64.whl.metadata (6.8 kB)\n",
            "Collecting black~=24.3 (from nemo_toolkit->nemo_toolkit[all])\n",
            "  Downloading black-24.10.0-cp310-cp310-win_amd64.whl.metadata (79 kB)\n",
            "Collecting click>=8.1 (from nemo_toolkit->nemo_toolkit[all])\n",
            "  Using cached click-8.1.7-py3-none-any.whl.metadata (3.0 kB)\n",
            "Collecting isort<6.0.0,>5.1.0 (from nemo_toolkit->nemo_toolkit[all])\n",
            "  Using cached isort-5.13.2-py3-none-any.whl.metadata (12 kB)\n",
            "Collecting parameterized (from nemo_toolkit->nemo_toolkit[all])\n",
            "  Using cached parameterized-0.9.0-py2.py3-none-any.whl.metadata (18 kB)\n",
            "Collecting pytest (from nemo_toolkit->nemo_toolkit[all])\n",
            "  Using cached pytest-8.3.3-py3-none-any.whl.metadata (7.5 kB)\n",
            "Collecting pytest-mock (from nemo_toolkit->nemo_toolkit[all])\n",
            "  Using cached pytest_mock-3.14.0-py3-none-any.whl.metadata (3.8 kB)\n",
            "Collecting pytest-runner (from nemo_toolkit->nemo_toolkit[all])\n",
            "  Using cached pytest_runner-6.0.1-py3-none-any.whl.metadata (7.3 kB)\n",
            "Collecting sphinx (from nemo_toolkit->nemo_toolkit[all])\n",
            "  Using cached sphinx-8.0.2-py3-none-any.whl.metadata (6.2 kB)\n",
            "Collecting sphinxcontrib-bibtex (from nemo_toolkit->nemo_toolkit[all])\n",
            "  Using cached sphinxcontrib_bibtex-2.6.3-py3-none-any.whl.metadata (6.3 kB)\n",
            "Collecting wandb (from nemo_toolkit->nemo_toolkit[all])\n",
            "  Using cached wandb-0.18.3-py3-none-win_amd64.whl.metadata (9.7 kB)\n",
            "Collecting cloudpickle (from nemo_toolkit->nemo_toolkit[all])\n",
            "  Using cached cloudpickle-3.0.0-py3-none-any.whl.metadata (7.0 kB)\n",
            "Collecting fiddle (from nemo_toolkit->nemo_toolkit[all])\n",
            "  Using cached fiddle-0.3.0-py3-none-any.whl.metadata (2.3 kB)\n",
            "Collecting hydra-core<=1.3.2,>1.3 (from nemo_toolkit->nemo_toolkit[all])\n",
            "  Using cached hydra_core-1.3.2-py3-none-any.whl.metadata (5.5 kB)\n",
            "Collecting omegaconf<=2.3 (from nemo_toolkit->nemo_toolkit[all])\n",
            "  Using cached omegaconf-2.3.0-py3-none-any.whl.metadata (3.9 kB)\n",
            "Collecting pytorch-lightning>2.2.1 (from nemo_toolkit->nemo_toolkit[all])\n",
            "  Using cached pytorch_lightning-2.4.0-py3-none-any.whl.metadata (21 kB)\n",
            "Collecting torchmetrics>=0.11.0 (from nemo_toolkit->nemo_toolkit[all])\n",
            "  Using cached torchmetrics-1.4.2-py3-none-any.whl.metadata (19 kB)\n",
            "Collecting transformers>=4.44.0 (from nemo_toolkit->nemo_toolkit[all])\n",
            "  Using cached transformers-4.45.2-py3-none-any.whl.metadata (44 kB)\n",
            "Collecting webdataset>=0.2.86 (from nemo_toolkit->nemo_toolkit[all])\n",
            "  Using cached webdataset-0.2.100-py3-none-any.whl.metadata (12 kB)\n",
            "Collecting datasets (from nemo_toolkit->nemo_toolkit[all])\n",
            "  Using cached datasets-3.0.1-py3-none-any.whl.metadata (20 kB)\n",
            "Collecting inflect (from nemo_toolkit->nemo_toolkit[all])\n",
            "  Using cached inflect-7.4.0-py3-none-any.whl.metadata (21 kB)\n",
            "Collecting pandas (from nemo_toolkit->nemo_toolkit[all])\n",
            "  Downloading pandas-2.2.3-cp310-cp310-win_amd64.whl.metadata (19 kB)\n",
            "Collecting sacremoses>=0.0.43 (from nemo_toolkit->nemo_toolkit[all])\n",
            "  Using cached sacremoses-0.1.1-py3-none-any.whl.metadata (8.3 kB)\n",
            "Collecting sentencepiece<1.0.0 (from nemo_toolkit->nemo_toolkit[all])\n",
            "  Downloading sentencepiece-0.2.0-cp310-cp310-win_amd64.whl.metadata (8.3 kB)\n",
            "Collecting braceexpand (from nemo_toolkit->nemo_toolkit[all])\n",
            "  Using cached braceexpand-0.1.7-py2.py3-none-any.whl.metadata (3.0 kB)\n",
            "Collecting editdistance (from nemo_toolkit->nemo_toolkit[all])\n",
            "  Downloading editdistance-0.8.1-cp310-cp310-win_amd64.whl.metadata (3.9 kB)\n",
            "Collecting einops (from nemo_toolkit->nemo_toolkit[all])\n",
            "  Using cached einops-0.8.0-py3-none-any.whl.metadata (12 kB)\n",
            "Collecting g2p-en (from nemo_toolkit->nemo_toolkit[all])\n",
            "  Using cached g2p_en-2.1.0-py3-none-any.whl.metadata (4.5 kB)\n",
            "Collecting jiwer (from nemo_toolkit->nemo_toolkit[all])\n",
            "  Using cached jiwer-3.0.4-py3-none-any.whl.metadata (2.6 kB)\n",
            "Collecting kaldi-python-io (from nemo_toolkit->nemo_toolkit[all])\n",
            "  Using cached kaldi-python-io-1.2.2.tar.gz (8.8 kB)\n",
            "  Preparing metadata (setup.py): started\n",
            "  Preparing metadata (setup.py): finished with status 'done'\n",
            "Collecting kaldiio (from nemo_toolkit->nemo_toolkit[all])\n",
            "  Using cached kaldiio-2.18.0-py3-none-any.whl.metadata (13 kB)\n",
            "Collecting lhotse>=1.26.0 (from nemo_toolkit->nemo_toolkit[all])\n",
            "  Using cached lhotse-1.27.0-py3-none-any.whl.metadata (17 kB)\n",
            "Collecting librosa>=0.10.2 (from nemo_toolkit->nemo_toolkit[all])\n",
            "  Using cached librosa-0.10.2.post1-py3-none-any.whl.metadata (8.6 kB)\n",
            "Collecting marshmallow (from nemo_toolkit->nemo_toolkit[all])\n",
            "  Using cached marshmallow-3.22.0-py3-none-any.whl.metadata (7.2 kB)\n",
            "Requirement already satisfied: packaging in c:\\users\\j\\appdata\\roaming\\python\\python310\\site-packages (from nemo_toolkit->nemo_toolkit[all]) (23.2)\n",
            "Collecting pyannote.core (from nemo_toolkit->nemo_toolkit[all])\n",
            "  Using cached pyannote.core-5.0.0-py3-none-any.whl.metadata (1.4 kB)\n",
            "Collecting pyannote.metrics (from nemo_toolkit->nemo_toolkit[all])\n",
            "  Using cached pyannote.metrics-3.2.1-py3-none-any.whl.metadata (1.3 kB)\n",
            "Collecting pydub (from nemo_toolkit->nemo_toolkit[all])\n",
            "  Using cached pydub-0.25.1-py2.py3-none-any.whl.metadata (1.4 kB)\n",
            "Collecting pyloudnorm (from nemo_toolkit->nemo_toolkit[all])\n",
            "  Using cached pyloudnorm-0.1.1-py3-none-any.whl.metadata (5.6 kB)\n",
            "Collecting resampy (from nemo_toolkit->nemo_toolkit[all])\n",
            "  Using cached resampy-0.4.3-py3-none-any.whl.metadata (3.0 kB)\n",
            "Collecting scipy>=0.14 (from nemo_toolkit->nemo_toolkit[all])\n",
            "  Downloading scipy-1.14.1-cp310-cp310-win_amd64.whl.metadata (60 kB)\n",
            "Collecting soundfile (from nemo_toolkit->nemo_toolkit[all])\n",
            "  Using cached soundfile-0.12.1-py2.py3-none-win_amd64.whl.metadata (14 kB)\n",
            "Collecting sox (from nemo_toolkit->nemo_toolkit[all])\n",
            "  Using cached sox-1.5.0.tar.gz (63 kB)\n",
            "  Preparing metadata (setup.py): started\n",
            "  Preparing metadata (setup.py): finished with status 'done'\n",
            "Collecting texterrors (from nemo_toolkit->nemo_toolkit[all])\n",
            "  Using cached texterrors-0.5.1.tar.gz (23 kB)\n",
            "  Preparing metadata (setup.py): started\n",
            "  Preparing metadata (setup.py): finished with status 'done'\n",
            "Collecting accelerated-scan (from nemo_toolkit->nemo_toolkit[all])\n",
            "  Using cached accelerated_scan-0.2.0-py3-none-any.whl.metadata (5.3 kB)\n",
            "Collecting boto3 (from nemo_toolkit->nemo_toolkit[all])\n",
            "  Using cached boto3-1.35.36-py3-none-any.whl.metadata (6.7 kB)\n",
            "Collecting faiss-cpu (from nemo_toolkit->nemo_toolkit[all])\n",
            "  Downloading faiss_cpu-1.9.0-cp310-cp310-win_amd64.whl.metadata (4.5 kB)\n",
            "Collecting fasttext (from nemo_toolkit->nemo_toolkit[all])\n",
            "  Using cached fasttext-0.9.3.tar.gz (73 kB)\n",
            "  Installing build dependencies: started\n",
            "  Installing build dependencies: finished with status 'done'\n",
            "  Getting requirements to build wheel: started\n",
            "  Getting requirements to build wheel: finished with status 'done'\n",
            "  Preparing metadata (pyproject.toml): started\n",
            "  Preparing metadata (pyproject.toml): finished with status 'done'\n",
            "Collecting flask-restful (from nemo_toolkit->nemo_toolkit[all])\n",
            "  Using cached Flask_RESTful-0.3.10-py2.py3-none-any.whl.metadata (1.0 kB)\n",
            "Collecting ftfy (from nemo_toolkit->nemo_toolkit[all])\n",
            "  Using cached ftfy-6.2.3-py3-none-any.whl.metadata (7.8 kB)\n",
            "Collecting gdown (from nemo_toolkit->nemo_toolkit[all])\n",
            "  Using cached gdown-5.2.0-py3-none-any.whl.metadata (5.8 kB)\n",
            "Collecting h5py (from nemo_toolkit->nemo_toolkit[all])\n",
            "  Downloading h5py-3.12.1-cp310-cp310-win_amd64.whl.metadata (2.5 kB)\n",
            "Collecting ijson (from nemo_toolkit->nemo_toolkit[all])\n",
            "  Downloading ijson-3.3.0-cp310-cp310-win_amd64.whl.metadata (22 kB)\n",
            "Collecting jieba (from nemo_toolkit->nemo_toolkit[all])\n",
            "  Using cached jieba-0.42.1.tar.gz (19.2 MB)\n",
            "  Preparing metadata (setup.py): started\n",
            "  Preparing metadata (setup.py): finished with status 'done'\n",
            "Collecting mamba-ssm==2.2.2 (from nemo_toolkit->nemo_toolkit[all])\n",
            "  Using cached mamba_ssm-2.2.2.tar.gz (85 kB)\n",
            "  Preparing metadata (setup.py): started\n",
            "  Preparing metadata (setup.py): finished with status 'error'\n"
          ]
        },
        {
          "name": "stderr",
          "output_type": "stream",
          "text": [
            "DEPRECATION: git+https://github.com/NVIDIA/NeMo.git@main#egg=nemo_toolkit[all] contains an egg fragment with a non-PEP 508 name pip 25.0 will enforce this behaviour change. A possible replacement is to use the req @ url syntax, and remove the egg fragment. Discussion can be found at https://github.com/pypa/pip/issues/11617\n",
            "  Running command git clone --filter=blob:none --quiet https://github.com/NVIDIA/NeMo.git 'C:\\Users\\J\\AppData\\Local\\Temp\\pip-install-us33ewmk\\nemo-toolkit_4f123f1bc5b24a54826552fd4101c303'\n",
            "  error: subprocess-exited-with-error\n",
            "  \n",
            "  × python setup.py egg_info did not run successfully.\n",
            "  │ exit code: 1\n",
            "  ╰─> [13 lines of output]\n",
            "      \n",
            "      \n",
            "      torch.__version__  = 2.4.1\n",
            "      \n",
            "      \n",
            "      C:\\Users\\J\\AppData\\Local\\Temp\\pip-install-us33ewmk\\mamba-ssm_52f05e44d7944e69bab6ac7a6df5194a\\setup.py:119: UserWarning: mamba_ssm was requested, but nvcc was not found.  Are you sure your environment has nvcc available?  If you're installing within a container from https://hub.docker.com/r/pytorch/pytorch, only images whose names contain 'devel' will provide nvcc.\n",
            "        warnings.warn(\n",
            "      Traceback (most recent call last):\n",
            "        File \"<string>\", line 2, in <module>\n",
            "        File \"<pip-setuptools-caller>\", line 34, in <module>\n",
            "        File \"C:\\Users\\J\\AppData\\Local\\Temp\\pip-install-us33ewmk\\mamba-ssm_52f05e44d7944e69bab6ac7a6df5194a\\setup.py\", line 189, in <module>\n",
            "          if bare_metal_version >= Version(\"11.8\"):\n",
            "      NameError: name 'bare_metal_version' is not defined\n",
            "      [end of output]\n",
            "  \n",
            "  note: This error originates from a subprocess, and is likely not a problem with pip.\n",
            "error: metadata-generation-failed\n",
            "\n",
            "× Encountered error while generating package metadata.\n",
            "╰─> See above for output.\n",
            "\n",
            "note: This is an issue with the package mentioned above, not pip.\n",
            "hint: See above for details.\n"
          ]
        }
      ],
      "source": [
        "\"\"\"\n",
        "You can run either this notebook locally (if you have all the dependencies and a GPU) or on Google Colab.\n",
        "\n",
        "Instructions for setting up Colab are as follows:\n",
        "1. Open a new Python 3 notebook.\n",
        "2. Import this notebook from GitHub (File -> Upload Notebook -> \"GitHub\" tab -> copy/paste GitHub URL)\n",
        "3. Connect to an instance with a GPU (Runtime -> Change runtime type -> select \"GPU\" for hardware accelerator)\n",
        "4. Run this cell to set up dependencies.\n",
        "5. Restart the runtime (Runtime -> Restart Runtime) for any upgraded packages to take effect\n",
        "\n",
        "\n",
        "NOTE: User is responsible for checking the content of datasets and the applicable licenses and determining if suitable for the intended use.\n",
        "\"\"\"\n",
        "# If you're using Google Colab and not running locally, run this cell.\n",
        "import os\n",
        "\n",
        "# Install dependencies\n",
        "!pip install wget\n",
        "!apt-get install sox libsndfile1 ffmpeg\n",
        "!pip install text-unidecode\n",
        "!pip install matplotlib>=3.3.2\n",
        "\n",
        "## Install NeMo\n",
        "BRANCH = 'main'\n",
        "!python -m pip install git+https://github.com/NVIDIA/NeMo.git@$BRANCH#egg=nemo_toolkit[all]\n",
        "\n",
        "## Grab the config we'll use in this example\n",
        "# !mkdir configs\n",
        "# !wget -P configs/ https://raw.githubusercontent.com/NVIDIA/NeMo/$BRANCH/examples/asr/conf/contextnet_rnnt/contextnet_rnnt.yaml"
      ]
    },
    {
      "cell_type": "markdown",
      "metadata": {
        "id": "cTV4WLrArmxS"
      },
      "source": [
        "# ASR Domain Adaptation with Adapters\n",
        "\n",
        "Throughout various Automatic Speech Recognition tutorials, you may have noticed that ASR datasets are generally enormous - on the order of hundreds or even thousands of hours of speech. Such a large amount of data imposes significant restrictions on the development of ASR models due to the cost of collection of labeled data (or even unlabeled datasets) and the severe compute cost to train a model on that much data. \n",
        "\n",
        "We further see that when fine-tuning a pre-trained model, we need large datasets and compute to achieve superior results and avoid overfitting to the new dataset. Worse, by training the entire model (or even just the decoder modules), we severely degrade the model's performance on the original dataset.\n",
        "\n",
        "-----\n",
        "\n",
        "In this tutorial, we will showcase **Adapters** : A powerful method to efficiently adapt a pre-trained model to a new dataset (with minimal amounts of data, even just 30 minutes !) with minimal compute resources (on a single GPU, in around 10 minutes of training time).\n"
      ]
    },
    {
      "cell_type": "markdown",
      "metadata": {
        "id": "f-LSGyL4xw9c"
      },
      "source": [
        "## What are Adapters?\n",
        "\n",
        "Adapters are a straightforward concept proposed in multiple papers across various domains. For the sake of brevity, we will choose a recent paper [Using Adapters to Overcome Catastrophic Forgetting in End-to-End Automatic Speech Recognition](https://arxiv.org/abs/2203.16082) as a reference for this discussion.\n",
        "\n",
        "Essentially, an **Adapter** is any **trainable module that is added * after * a model has been trained to convergence**. \n",
        "\n",
        "- These additional modules form a residual bridge over the output of each layer they adapt, such that the model's original performance is not lost. \n",
        "- The original parameters of the model are frozen in their entirety - so that we don't lose performance on the original domain.\n",
        "- We train only the new adapter parameters (an insignificant fraction of the total number of parameters). This allows fast experimentation.\n",
        "\n",
        "-----\n",
        "\n",
        "Adapters are a straightforward concept - as shown by the diagram below. At their simplest, they are residual Feedforward layers that compress the input dimension ($D$) to a small bottleneck dimension ($H$), such that $R^D \\text{->} R^H$, compute an activation (such as ReLU), finally mapping $R^H \\text{->} R^D$ with another Feedforward layer. This output is then added to the input via a simple residual connection.\n",
        "\n",
        "<div align=\"center\">\n",
        "  <img src=\"https://mermaid.ink/img/pako:eNptkLFqwzAQhl9F3ORAPDSjA4EUx6RgXEjbycpwWOdG1JaMfEoakrx7ZcfpUKrlxH_fz4d0gcoqggTqxp6qAzoW76k0Ipx1-WI6z3sRxyuRF1GOZ3KisK6d3YG8GFdZ9hRJeLbMDRmqvkRGpDLrTuiUiEWUigBtlyIVqzBnEqZ66I39dcX6iKytKXeUf-wn-286QoFeBMvmu0PTD-EfyXaQpP9JFmP_1XN4S3kfD8W4ue6o18pjc52gYQlzaMm1qFX4msuQSOADtSQhCdfaOupZgjS3QPpOIdNGabYOkhqbnuaAnu3b2VSQsPP0gFKNnw7bibr9AJkZdXU\" height=100% />\n",
        "</div>\n",
        "\n",
        "-----\n",
        "\n",
        "Adapter modules such as this are usually initialized. The initial output of the adapter will always be zeros to prevent degradation of the original model's performance due to the addition of such modules."
      ]
    },
    {
      "cell_type": "markdown",
      "metadata": {
        "id": "YGn1__-Jv2Bq"
      },
      "source": [
        "## Advantages of Adapters\n",
        "\n",
        "Since adapters are additional parameters added to an already trained network, and due to their construction, they possess multiple beneficial properties.\n",
        "\n",
        "- **Added parameter cost**: They cost an insignificant number of parameters compared to the original model (generally 0.5% - 1% of the initial parameter count).\n",
        "- **Residual bridge**: Adapters are initialized with special care, such that their contribution to the output of each layer they adapt is initially 0. Therefore, after the addition of the adapters, the original model does not lose any accuracy at all (even without training the adapters).\n",
        "- **Fast convergence**: Since the adapters only need to learn to modify the module's output slightly, and each adapter has a trivial parameter cost, they converge rapidly.\n",
        "- **Adapt only the encoder**: Adapters can be used anywhere, but they are most commonly used in just the encoder, keeping the decoder modules frozen. This allows the decoder to be unaffected by costly CTC/RNN-T training, which takes time to converge, and just the adapter modules in the encoder need to be updated.\n",
        "- **Dynamic and flexible adaptation**: Since adapter modules can be added any number of times, a single shared \"core\" model can have multiple adapters that are enabled/disabled dynamically to adapt to numerous scenarios. This potentially offers the case where a single \"core\" model is shared across multiple users, and each user has a small, personal adapter module used for personalization.  "
      ]
    },
    {
      "cell_type": "markdown",
      "metadata": {
        "id": "8d7y1cygv4MP"
      },
      "source": [
        "## Limitations of Adapters\n",
        "\n",
        "With all those benefits, Adapters have significant drawbacks stemming from how they are currently used.\n",
        "\n",
        "Note that there is ongoing research to overcome such restrictions, which we hope to incorporate eventually.\n",
        "\n",
        "- **Frozen decoder modules**: Since the decoder is frozen to avoid forgetting the past training, it does not learn the semantics of the text from the new domain. This may hamper some models more than others.\n",
        "- **Frozen tokenization/decoding**: A consequence of the frozen decoder is that we cannot change the vocabulary (or tokenizer) of the decoder layer - as this would cause the model to forget its past training entirely. This also means that **adapters cannot be used to train in a different language than the original language**. The text of the new domain must be supported by the original model's tokenizer/decoder.\n",
        "  - **Note**: There is nothing fundamentally wrong with still changing the vocabulary of a model that supports adapters. The benefits of adapters will reduce significantly and require costly training (similar in time and memory to finetuning). The model can no longer recover its performance by disabling all of its adapters.\n",
        "- **Easy to overfit**: Since adapters enable domain adaptation on very small amounts of speech data, it is trivial to rapidly overfit these datasets and significantly degrade performance on the original domain. \n",
        "  - **Note**: This can be overcome with some experimentation, further boosted by the fast experimentation cycle that adapters enable."
      ]
    },
    {
      "cell_type": "markdown",
      "metadata": {
        "id": "mtYWTi0irkS6"
      },
      "source": [
        "# Dataset preparation\n",
        "\n",
        "Now that we understand what adapters are and their benefits/drawbacks, we can explore how to set up adapters in NeMo ASR models.\n",
        "\n",
        "-----\n",
        "\n",
        "First, we prepare some datasets that the original model was **not trained on**, making it a new domain to be adapted. \n",
        "\n",
        "In this tutorial, we will be utilizing the `AN4` dataset - also known as the Alphanumeric dataset, which was collected and published by Carnegie Mellon University. We chose this dataset primarily because it is **very small in size** (`<1 hours of training data`), **easy to overfit when training from scratch / fine-tuning by changing the decoder** (`previous tutorials can mostly get around 10-20% WER with fine-tuning without hyperparameter tuning`), and its **text is perfectly supported by the tokenization/decoding scheme of the model**."
      ]
    },
    {
      "cell_type": "code",
      "execution_count": 2,
      "metadata": {
        "id": "NpKgT6q5-gNk"
      },
      "outputs": [
        {
          "name": "stderr",
          "output_type": "stream",
          "text": [
            "'wget' is not recognized as an internal or external command,\n",
            "operable program or batch file.\n"
          ]
        }
      ],
      "source": [
        "import os\n",
        "\n",
        "if not os.path.exists(\"scripts/\"):\n",
        "  os.makedirs(\"scripts\")\n",
        "\n",
        "if not os.path.exists(\"scripts/process_an4_data.py\"):\n",
        "  !wget -P scripts/ https://raw.githubusercontent.com/NVIDIA/NeMo/$BRANCH/scripts/dataset_processing/process_an4_data.py"
      ]
    },
    {
      "cell_type": "code",
      "execution_count": 3,
      "metadata": {
        "id": "0wZZuUDi_gEV"
      },
      "outputs": [
        {
          "name": "stdout",
          "output_type": "stream",
          "text": [
            "******\n",
            "Dataset downloaded at: datasets/an4_sphere.tar.gz\n",
            "Converting .sph to .wav...\n"
          ]
        },
        {
          "ename": "FileNotFoundError",
          "evalue": "[WinError 2] The system cannot find the file specified",
          "output_type": "error",
          "traceback": [
            "\u001b[1;31m---------------------------------------------------------------------------\u001b[0m",
            "\u001b[1;31mFileNotFoundError\u001b[0m                         Traceback (most recent call last)",
            "Cell \u001b[1;32mIn[3], line 32\u001b[0m\n\u001b[0;32m     30\u001b[0m         wav_path \u001b[38;5;241m=\u001b[39m sph_path[:\u001b[38;5;241m-\u001b[39m\u001b[38;5;241m4\u001b[39m] \u001b[38;5;241m+\u001b[39m \u001b[38;5;124m'\u001b[39m\u001b[38;5;124m.wav\u001b[39m\u001b[38;5;124m'\u001b[39m\n\u001b[0;32m     31\u001b[0m         cmd \u001b[38;5;241m=\u001b[39m [\u001b[38;5;124m\"\u001b[39m\u001b[38;5;124msox\u001b[39m\u001b[38;5;124m\"\u001b[39m, sph_path, wav_path]\n\u001b[1;32m---> 32\u001b[0m         \u001b[43msubprocess\u001b[49m\u001b[38;5;241;43m.\u001b[39;49m\u001b[43mrun\u001b[49m\u001b[43m(\u001b[49m\u001b[43mcmd\u001b[49m\u001b[43m)\u001b[49m\n\u001b[0;32m     34\u001b[0m \u001b[38;5;28mprint\u001b[39m(\u001b[38;5;124m\"\u001b[39m\u001b[38;5;124mFinished conversion.\u001b[39m\u001b[38;5;130;01m\\n\u001b[39;00m\u001b[38;5;124m******\u001b[39m\u001b[38;5;124m\"\u001b[39m)\n\u001b[0;32m     36\u001b[0m \u001b[38;5;28;01mif\u001b[39;00m os\u001b[38;5;241m.\u001b[39mpath\u001b[38;5;241m.\u001b[39mexists(\u001b[38;5;124mf\u001b[39m\u001b[38;5;124m\"\u001b[39m\u001b[38;5;132;01m{\u001b[39;00mdata_dir\u001b[38;5;132;01m}\u001b[39;00m\u001b[38;5;124m/an4\u001b[39m\u001b[38;5;124m\"\u001b[39m):\n",
            "File \u001b[1;32mc:\\Users\\J\\anaconda3\\envs\\nemo\\lib\\subprocess.py:503\u001b[0m, in \u001b[0;36mrun\u001b[1;34m(input, capture_output, timeout, check, *popenargs, **kwargs)\u001b[0m\n\u001b[0;32m    500\u001b[0m     kwargs[\u001b[38;5;124m'\u001b[39m\u001b[38;5;124mstdout\u001b[39m\u001b[38;5;124m'\u001b[39m] \u001b[38;5;241m=\u001b[39m PIPE\n\u001b[0;32m    501\u001b[0m     kwargs[\u001b[38;5;124m'\u001b[39m\u001b[38;5;124mstderr\u001b[39m\u001b[38;5;124m'\u001b[39m] \u001b[38;5;241m=\u001b[39m PIPE\n\u001b[1;32m--> 503\u001b[0m \u001b[38;5;28;01mwith\u001b[39;00m Popen(\u001b[38;5;241m*\u001b[39mpopenargs, \u001b[38;5;241m*\u001b[39m\u001b[38;5;241m*\u001b[39mkwargs) \u001b[38;5;28;01mas\u001b[39;00m process:\n\u001b[0;32m    504\u001b[0m     \u001b[38;5;28;01mtry\u001b[39;00m:\n\u001b[0;32m    505\u001b[0m         stdout, stderr \u001b[38;5;241m=\u001b[39m process\u001b[38;5;241m.\u001b[39mcommunicate(\u001b[38;5;28minput\u001b[39m, timeout\u001b[38;5;241m=\u001b[39mtimeout)\n",
            "File \u001b[1;32mc:\\Users\\J\\anaconda3\\envs\\nemo\\lib\\subprocess.py:971\u001b[0m, in \u001b[0;36mPopen.__init__\u001b[1;34m(self, args, bufsize, executable, stdin, stdout, stderr, preexec_fn, close_fds, shell, cwd, env, universal_newlines, startupinfo, creationflags, restore_signals, start_new_session, pass_fds, user, group, extra_groups, encoding, errors, text, umask, pipesize)\u001b[0m\n\u001b[0;32m    967\u001b[0m         \u001b[38;5;28;01mif\u001b[39;00m \u001b[38;5;28mself\u001b[39m\u001b[38;5;241m.\u001b[39mtext_mode:\n\u001b[0;32m    968\u001b[0m             \u001b[38;5;28mself\u001b[39m\u001b[38;5;241m.\u001b[39mstderr \u001b[38;5;241m=\u001b[39m io\u001b[38;5;241m.\u001b[39mTextIOWrapper(\u001b[38;5;28mself\u001b[39m\u001b[38;5;241m.\u001b[39mstderr,\n\u001b[0;32m    969\u001b[0m                     encoding\u001b[38;5;241m=\u001b[39mencoding, errors\u001b[38;5;241m=\u001b[39merrors)\n\u001b[1;32m--> 971\u001b[0m     \u001b[38;5;28;43mself\u001b[39;49m\u001b[38;5;241;43m.\u001b[39;49m\u001b[43m_execute_child\u001b[49m\u001b[43m(\u001b[49m\u001b[43margs\u001b[49m\u001b[43m,\u001b[49m\u001b[43m \u001b[49m\u001b[43mexecutable\u001b[49m\u001b[43m,\u001b[49m\u001b[43m \u001b[49m\u001b[43mpreexec_fn\u001b[49m\u001b[43m,\u001b[49m\u001b[43m \u001b[49m\u001b[43mclose_fds\u001b[49m\u001b[43m,\u001b[49m\n\u001b[0;32m    972\u001b[0m \u001b[43m                        \u001b[49m\u001b[43mpass_fds\u001b[49m\u001b[43m,\u001b[49m\u001b[43m \u001b[49m\u001b[43mcwd\u001b[49m\u001b[43m,\u001b[49m\u001b[43m \u001b[49m\u001b[43menv\u001b[49m\u001b[43m,\u001b[49m\n\u001b[0;32m    973\u001b[0m \u001b[43m                        \u001b[49m\u001b[43mstartupinfo\u001b[49m\u001b[43m,\u001b[49m\u001b[43m \u001b[49m\u001b[43mcreationflags\u001b[49m\u001b[43m,\u001b[49m\u001b[43m \u001b[49m\u001b[43mshell\u001b[49m\u001b[43m,\u001b[49m\n\u001b[0;32m    974\u001b[0m \u001b[43m                        \u001b[49m\u001b[43mp2cread\u001b[49m\u001b[43m,\u001b[49m\u001b[43m \u001b[49m\u001b[43mp2cwrite\u001b[49m\u001b[43m,\u001b[49m\n\u001b[0;32m    975\u001b[0m \u001b[43m                        \u001b[49m\u001b[43mc2pread\u001b[49m\u001b[43m,\u001b[49m\u001b[43m \u001b[49m\u001b[43mc2pwrite\u001b[49m\u001b[43m,\u001b[49m\n\u001b[0;32m    976\u001b[0m \u001b[43m                        \u001b[49m\u001b[43merrread\u001b[49m\u001b[43m,\u001b[49m\u001b[43m \u001b[49m\u001b[43merrwrite\u001b[49m\u001b[43m,\u001b[49m\n\u001b[0;32m    977\u001b[0m \u001b[43m                        \u001b[49m\u001b[43mrestore_signals\u001b[49m\u001b[43m,\u001b[49m\n\u001b[0;32m    978\u001b[0m \u001b[43m                        \u001b[49m\u001b[43mgid\u001b[49m\u001b[43m,\u001b[49m\u001b[43m \u001b[49m\u001b[43mgids\u001b[49m\u001b[43m,\u001b[49m\u001b[43m \u001b[49m\u001b[43muid\u001b[49m\u001b[43m,\u001b[49m\u001b[43m \u001b[49m\u001b[43mumask\u001b[49m\u001b[43m,\u001b[49m\n\u001b[0;32m    979\u001b[0m \u001b[43m                        \u001b[49m\u001b[43mstart_new_session\u001b[49m\u001b[43m)\u001b[49m\n\u001b[0;32m    980\u001b[0m \u001b[38;5;28;01mexcept\u001b[39;00m:\n\u001b[0;32m    981\u001b[0m     \u001b[38;5;66;03m# Cleanup if the child failed starting.\u001b[39;00m\n\u001b[0;32m    982\u001b[0m     \u001b[38;5;28;01mfor\u001b[39;00m f \u001b[38;5;129;01min\u001b[39;00m \u001b[38;5;28mfilter\u001b[39m(\u001b[38;5;28;01mNone\u001b[39;00m, (\u001b[38;5;28mself\u001b[39m\u001b[38;5;241m.\u001b[39mstdin, \u001b[38;5;28mself\u001b[39m\u001b[38;5;241m.\u001b[39mstdout, \u001b[38;5;28mself\u001b[39m\u001b[38;5;241m.\u001b[39mstderr)):\n",
            "File \u001b[1;32mc:\\Users\\J\\anaconda3\\envs\\nemo\\lib\\subprocess.py:1456\u001b[0m, in \u001b[0;36mPopen._execute_child\u001b[1;34m(self, args, executable, preexec_fn, close_fds, pass_fds, cwd, env, startupinfo, creationflags, shell, p2cread, p2cwrite, c2pread, c2pwrite, errread, errwrite, unused_restore_signals, unused_gid, unused_gids, unused_uid, unused_umask, unused_start_new_session)\u001b[0m\n\u001b[0;32m   1454\u001b[0m \u001b[38;5;66;03m# Start the process\u001b[39;00m\n\u001b[0;32m   1455\u001b[0m \u001b[38;5;28;01mtry\u001b[39;00m:\n\u001b[1;32m-> 1456\u001b[0m     hp, ht, pid, tid \u001b[38;5;241m=\u001b[39m \u001b[43m_winapi\u001b[49m\u001b[38;5;241;43m.\u001b[39;49m\u001b[43mCreateProcess\u001b[49m\u001b[43m(\u001b[49m\u001b[43mexecutable\u001b[49m\u001b[43m,\u001b[49m\u001b[43m \u001b[49m\u001b[43margs\u001b[49m\u001b[43m,\u001b[49m\n\u001b[0;32m   1457\u001b[0m \u001b[43m                             \u001b[49m\u001b[38;5;66;43;03m# no special security\u001b[39;49;00m\n\u001b[0;32m   1458\u001b[0m \u001b[43m                             \u001b[49m\u001b[38;5;28;43;01mNone\u001b[39;49;00m\u001b[43m,\u001b[49m\u001b[43m \u001b[49m\u001b[38;5;28;43;01mNone\u001b[39;49;00m\u001b[43m,\u001b[49m\n\u001b[0;32m   1459\u001b[0m \u001b[43m                             \u001b[49m\u001b[38;5;28;43mint\u001b[39;49m\u001b[43m(\u001b[49m\u001b[38;5;129;43;01mnot\u001b[39;49;00m\u001b[43m \u001b[49m\u001b[43mclose_fds\u001b[49m\u001b[43m)\u001b[49m\u001b[43m,\u001b[49m\n\u001b[0;32m   1460\u001b[0m \u001b[43m                             \u001b[49m\u001b[43mcreationflags\u001b[49m\u001b[43m,\u001b[49m\n\u001b[0;32m   1461\u001b[0m \u001b[43m                             \u001b[49m\u001b[43menv\u001b[49m\u001b[43m,\u001b[49m\n\u001b[0;32m   1462\u001b[0m \u001b[43m                             \u001b[49m\u001b[43mcwd\u001b[49m\u001b[43m,\u001b[49m\n\u001b[0;32m   1463\u001b[0m \u001b[43m                             \u001b[49m\u001b[43mstartupinfo\u001b[49m\u001b[43m)\u001b[49m\n\u001b[0;32m   1464\u001b[0m \u001b[38;5;28;01mfinally\u001b[39;00m:\n\u001b[0;32m   1465\u001b[0m     \u001b[38;5;66;03m# Child is launched. Close the parent's copy of those pipe\u001b[39;00m\n\u001b[0;32m   1466\u001b[0m     \u001b[38;5;66;03m# handles that only the child should have open.  You need\u001b[39;00m\n\u001b[1;32m   (...)\u001b[0m\n\u001b[0;32m   1469\u001b[0m     \u001b[38;5;66;03m# pipe will not close when the child process exits and the\u001b[39;00m\n\u001b[0;32m   1470\u001b[0m     \u001b[38;5;66;03m# ReadFile will hang.\u001b[39;00m\n\u001b[0;32m   1471\u001b[0m     \u001b[38;5;28mself\u001b[39m\u001b[38;5;241m.\u001b[39m_close_pipe_fds(p2cread, p2cwrite,\n\u001b[0;32m   1472\u001b[0m                          c2pread, c2pwrite,\n\u001b[0;32m   1473\u001b[0m                          errread, errwrite)\n",
            "\u001b[1;31mFileNotFoundError\u001b[0m: [WinError 2] The system cannot find the file specified"
          ]
        }
      ],
      "source": [
        "import wget\n",
        "import tarfile \n",
        "import subprocess \n",
        "import glob\n",
        "\n",
        "data_dir = \"datasets\"\n",
        "\n",
        "if not os.path.exists(data_dir):\n",
        "  os.makedirs(data_dir)\n",
        "\n",
        "# Download the dataset. This will take a few moments...\n",
        "print(\"******\")\n",
        "if not os.path.exists(data_dir + '/an4_sphere.tar.gz'):\n",
        "    an4_url = 'https://dldata-public.s3.us-east-2.amazonaws.com/an4_sphere.tar.gz'\n",
        "    an4_path = wget.download(an4_url, data_dir)\n",
        "    print(f\"Dataset downloaded at: {an4_path}\")\n",
        "else:\n",
        "    print(\"Tarfile already exists.\")\n",
        "    an4_path = data_dir + '/an4_sphere.tar.gz'\n",
        "\n",
        "\n",
        "if not os.path.exists(data_dir + '/an4/'):\n",
        "    # Untar and convert .sph to .wav (using sox)\n",
        "    tar = tarfile.open(an4_path)\n",
        "    tar.extractall(path=data_dir)\n",
        "\n",
        "    print(\"Converting .sph to .wav...\")\n",
        "    sph_list = glob.glob(data_dir + '/an4/**/*.sph', recursive=True)\n",
        "    for sph_path in sph_list:\n",
        "        wav_path = sph_path[:-4] + '.wav'\n",
        "        cmd = [\"sox\", sph_path, wav_path]\n",
        "        subprocess.run(cmd)\n",
        "\n",
        "print(\"Finished conversion.\\n******\")\n",
        "\n",
        "if os.path.exists(f\"{data_dir}/an4\"):\n",
        "  print(\"Preparing AN4 dataset ...\")\n",
        "\n",
        "  an4_path = f\"{data_dir}/\"\n",
        "  !python scripts/process_an4_data.py \\\n",
        "    --data_root=$an4_path\n",
        "\n",
        "print(\"AN4 prepared !\")"
      ]
    },
    {
      "cell_type": "code",
      "execution_count": null,
      "metadata": {
        "id": "9fiqQeWDAXsH"
      },
      "outputs": [],
      "source": [
        "# Manifest filepaths\n",
        "TRAIN_MANIFEST = os.path.join(data_dir, \"an4\", \"train_manifest.json\")\n",
        "TEST_MANIFEST = os.path.join(data_dir, \"an4\", \"test_manifest.json\")"
      ]
    },
    {
      "cell_type": "markdown",
      "metadata": {
        "id": "q2nxi5RzAfZ5"
      },
      "source": [
        "# Prepare the \"base\" model\n",
        "\n",
        "Next, we initialize a small pre-trained model with a relatively small amount of parameters to showcase the efficacy of adapters no matter the original model size.\n",
        "\n",
        "-----\n",
        "\n",
        "Most importantly, we discuss a simple way to enable Adapter specific support to a pre-trained model checkpoint - by modifying the `encoder` config before loading the model."
      ]
    },
    {
      "cell_type": "code",
      "execution_count": null,
      "metadata": {
        "id": "F-wt9y5iAali"
      },
      "outputs": [],
      "source": [
        "import torch\n",
        "from omegaconf import OmegaConf, open_dict\n",
        "from pytorch_lightning import Trainer\n",
        "\n",
        "import nemo.collections.asr as nemo_asr"
      ]
    },
    {
      "cell_type": "code",
      "execution_count": null,
      "metadata": {
        "id": "uVOfU7gsCI5u"
      },
      "outputs": [],
      "source": [
        "model_name = \"stt_en_conformer_ctc_small\""
      ]
    },
    {
      "cell_type": "markdown",
      "metadata": {
        "id": "TitUAeq67Hkl"
      },
      "source": [
        "## Prepare an Adapter-compatible Encoder\n",
        "\n",
        "The original model was trained without any adapters, and therefore its encoder does not support adapters.\n",
        "\n",
        " To add adapter modules to these models, we perform a few simple steps - \n",
        "\n",
        "- Extract the model config from the \"base\" model.\n",
        "- Update the `encoder` section of the config to a subclass of that model (which does have Adapter support)\n",
        "- Initialize the model with this new config, therefore enabling adapter support."
      ]
    },
    {
      "cell_type": "markdown",
      "metadata": {
        "id": "5V5UY-5c8FDv"
      },
      "source": [
        "- Extract just the config of the model."
      ]
    },
    {
      "cell_type": "code",
      "execution_count": null,
      "metadata": {
        "id": "RzwLAHVqAqD9"
      },
      "outputs": [],
      "source": [
        "cfg = nemo_asr.models.ASRModel.from_pretrained(model_name, return_config=True)"
      ]
    },
    {
      "cell_type": "code",
      "execution_count": null,
      "metadata": {
        "id": "O6xAz38-A_Bh"
      },
      "outputs": [],
      "source": [
        "from nemo.core import adapter_mixins\n",
        "\n",
        "# Utility method to check and update the model config\n",
        "def update_model_config_to_support_adapter(model_cfg):\n",
        "    with open_dict(model_cfg):\n",
        "        adapter_metadata = adapter_mixins.get_registered_adapter(model_cfg.encoder._target_)\n",
        "        if adapter_metadata is not None:\n",
        "            model_cfg.encoder._target_ = adapter_metadata.adapter_class_path\n",
        "    \n",
        "    print(\"Updated encoder _target_ model :\", model_cfg.encoder._target_)\n",
        "    return model_cfg"
      ]
    },
    {
      "cell_type": "markdown",
      "metadata": {
        "id": "TDk2VMXI8OkG"
      },
      "source": [
        "- Update the model config's `encoder` section to support Adapters."
      ]
    },
    {
      "cell_type": "code",
      "execution_count": null,
      "metadata": {
        "id": "iyp4xUOLBi0v"
      },
      "outputs": [],
      "source": [
        "cfg = update_model_config_to_support_adapter(cfg)"
      ]
    },
    {
      "cell_type": "markdown",
      "metadata": {
        "id": "26NTK00w8VIt"
      },
      "source": [
        "- Finally load the model with the updated config."
      ]
    },
    {
      "cell_type": "code",
      "execution_count": null,
      "metadata": {
        "id": "7r36mkUGBvsy"
      },
      "outputs": [],
      "source": [
        "model = nemo_asr.models.ASRModel.from_pretrained(model_name, override_config_path=cfg)"
      ]
    },
    {
      "cell_type": "markdown",
      "metadata": {
        "id": "x0C2r7388cRd"
      },
      "source": [
        "-----\n",
        "\n",
        "Next, we attach a `Trainer` to the model to be appropriately initialized.\n",
        "\n",
        "Note that we select just **300 update steps**, which is approximately just ten epochs over this dataset at batch sizes of 32. You can experiment with different steps to see the effect of overfitting or underfitting.\n",
        "\n",
        "**Recommendation**:\n",
        "\n",
        "You should normally start with 1-5 epochs of adaptation over your entire new domain, and then increase or decrease your number of training steps to trade off a balance in accuracy on general speech."
      ]
    },
    {
      "cell_type": "code",
      "execution_count": null,
      "metadata": {
        "id": "sWRUXzjQMWN5"
      },
      "outputs": [],
      "source": [
        "accelerator = 'gpu' if torch.cuda.is_available() else 'cpu'\n",
        "max_steps = 300\n",
        "\n",
        "trainer = Trainer(devices=1, accelerator=accelerator, max_steps=max_steps,\n",
        "                  enable_checkpointing=False, logger=False,\n",
        "                  log_every_n_steps=5, check_val_every_n_epoch=3)\n",
        "\n",
        "model.set_trainer(trainer)"
      ]
    },
    {
      "cell_type": "code",
      "execution_count": null,
      "metadata": {
        "id": "tJBriqr3tQV7"
      },
      "outputs": [],
      "source": [
        "# utility method\n",
        "import json\n",
        "from nemo.collections.asr.parts.utils.manifest_utils import read_manifest\n"
      ]
    },
    {
      "cell_type": "markdown",
      "metadata": {
        "id": "dm-qqTdZDUlZ"
      },
      "source": [
        "## [Optional] Check if the new domain is compatible with the original decoder\n",
        "\n",
        "The following section, while optional, designs a test to ensure that the text of the new domain can be adequately handled by the original decoder/tokenizer of the model. Please open each cell and execute to perform this sanity check.\n",
        "\n",
        "-----\n",
        "\n",
        "If this check fails, the training run might crash, or silently allow the model to learn to produce `⁇` tokens (when using SentencePiece tokenizers)."
      ]
    },
    {
      "cell_type": "markdown",
      "metadata": {
        "id": "UKTiAPV_sdFI"
      },
      "source": [
        "### Parse the base character set"
      ]
    },
    {
      "cell_type": "code",
      "execution_count": null,
      "metadata": {
        "id": "WgogR3taD7NA"
      },
      "outputs": [],
      "source": [
        "train_data = read_manifest(TRAIN_MANIFEST)\n",
        "base_sets = [set(list(sample['text'])) for sample in train_data]\n",
        "base_charset = set([])\n",
        "for charset in base_sets:\n",
        "  base_charset.update(charset)\n",
        "base_charset = list(sorted(list(base_charset)))\n",
        "\n",
        "print(\"Base charset :\", base_charset)"
      ]
    },
    {
      "cell_type": "markdown",
      "metadata": {
        "id": "x-0fzrfPshJj"
      },
      "source": [
        "### Check if there are invalid characters"
      ]
    },
    {
      "cell_type": "code",
      "execution_count": null,
      "metadata": {
        "id": "5laUkRf5Eb6l"
      },
      "outputs": [],
      "source": [
        "def check_valid_charset_in_vocab(model, charset):\n",
        "  model_vocab = model.decoder.vocabulary\n",
        "  num_invalid = 0\n",
        "\n",
        "  for char in charset:\n",
        "    if char != ' ' and char not in model_vocab:\n",
        "      print(f\"Character `{char}` does not exist in the base character set of the original model !\")\n",
        "      num_invalid += 1\n",
        "\n",
        "  print(\"Number of invalid tokens :\", num_invalid)"
      ]
    },
    {
      "cell_type": "code",
      "execution_count": null,
      "metadata": {
        "id": "5rEUqs7AFh5j"
      },
      "outputs": [],
      "source": [
        "check_valid_charset_in_vocab(model, base_charset)"
      ]
    },
    {
      "cell_type": "markdown",
      "metadata": {
        "id": "Sf-2EHznGkI1"
      },
      "source": [
        "# Evaluate original performance on AN4 dev set\n",
        "\n",
        "Now that we possess a model capable of supporting adapters, let us quickly test the performance of the pre-trained model on the AN4 test set without any training or fine-tuning."
      ]
    },
    {
      "cell_type": "code",
      "execution_count": null,
      "metadata": {
        "id": "Ak4v4aWjGoQH"
      },
      "outputs": [],
      "source": [
        "if not os.path.exists('scripts/transcribe_speech.py'):\n",
        "  !wget -P scripts/ https://raw.githubusercontent.com/NVIDIA/NeMo/$BRANCH/examples/asr/transcribe_speech.py\n",
        "\n",
        "if not os.path.exists('scripts/speech_to_text_eval.py'):\n",
        "  !wget -P scripts/ https://raw.githubusercontent.com/NVIDIA/NeMo/$BRANCH/examples/asr/speech_to_text_eval.py"
      ]
    },
    {
      "cell_type": "code",
      "execution_count": null,
      "metadata": {
        "id": "OVlBKWCiIHw7"
      },
      "outputs": [],
      "source": [
        "# temporarily save current model\n",
        "model.save_to(\"/content/unadapted_model.nemo\")"
      ]
    },
    {
      "cell_type": "markdown",
      "metadata": {
        "id": "r03iDw9k-dAm"
      },
      "source": [
        "-----\n",
        "\n",
        "The following evaluation script will properly transcribe the AN4 test set, and score it against its ground truth."
      ]
    },
    {
      "cell_type": "code",
      "execution_count": null,
      "metadata": {
        "id": "C6YbPt70H0-N"
      },
      "outputs": [],
      "source": [
        "!python scripts/speech_to_text_eval.py \\\n",
        "  model_path=\"/content/unadapted_model.nemo\" \\\n",
        "  dataset_manifest=$TEST_MANIFEST \\\n",
        "  output_filename=\"/content/unadapted_predictions.json\" \\\n",
        "  batch_size=32 \\\n",
        "  use_cer=False"
      ]
    },
    {
      "cell_type": "markdown",
      "metadata": {
        "id": "2VBQO3w3swu8"
      },
      "source": [
        "------\n",
        "\n",
        "Check the predictions of the current model"
      ]
    },
    {
      "cell_type": "code",
      "execution_count": null,
      "metadata": {
        "id": "SE8uoRLsJA9F"
      },
      "outputs": [],
      "source": [
        "!head -n 5 /content/unadapted_predictions.json"
      ]
    },
    {
      "cell_type": "markdown",
      "metadata": {
        "id": "muRBgHHe-n7E"
      },
      "source": [
        "-----\n",
        "\n",
        "Overall, the model does quite well, obtaining roughly 6% Word Error Rate without prior training on this dataset. \n",
        "\n",
        "**Note**: Pre-trained models in NeMo are trained on several thousands of hours of speech, so it is unsurprising why this model is this accurate without any training on this toy dataset. For more realistic cases, we usually observe the range of 10-30% WER for out-of-domain speech."
      ]
    },
    {
      "cell_type": "markdown",
      "metadata": {
        "id": "b-L3prIzs3CW"
      },
      "source": [
        "# Setup training and evaluation of the model\n",
        "\n",
        "Now that we have a baseline result, let us set up the data loaders of this model to prepare for training on this dataset.\n",
        "\n",
        "You may note: this step is nearly identical to from scratch training / fine-tuning and skips the tokenizer construction/change vocabulary steps.\n",
        "\n",
        "**Note**: Each model may have special parameters in their data loader. Please refer to the configs of the pre-trained models to determine what additional changes are necessary). Below recommendations are primarily for Conformer CTC and may differ from model to model.\n",
        "\n",
        "You can parse the model config via - `print(OmegaConf.to_yaml(model.cfg))`"
      ]
    },
    {
      "cell_type": "markdown",
      "metadata": {
        "id": "V2WirN5KJpsD"
      },
      "source": [
        "## Setup dataloaders"
      ]
    },
    {
      "cell_type": "code",
      "execution_count": null,
      "metadata": {
        "id": "F0GIxhyCJmFv"
      },
      "outputs": [],
      "source": [
        "with open_dict(model.cfg):\n",
        "  # Train Dataloader\n",
        "  model.cfg.train_ds.manifest_filepath = TRAIN_MANIFEST\n",
        "  model.cfg.train_ds.batch_size = 32\n",
        "  model.cfg.train_ds.is_tarred = False\n",
        "  model.cfg.train_ds.tarred_audio_filepaths = None\n",
        "\n",
        "  model.cfg.validation_ds.manifest_filepath = TEST_MANIFEST\n",
        "  model.cfg.validation_ds.batch_size = 32\n",
        "\n",
        "model.setup_training_data(model.cfg.train_ds)\n",
        "model.setup_multiple_validation_data(model.cfg.validation_ds)\n",
        "model.setup_multiple_test_data(model.cfg.validation_ds)"
      ]
    },
    {
      "cell_type": "markdown",
      "metadata": {
        "id": "T3VuqcGTNuIJ"
      },
      "source": [
        "## Setup Spectrogram Augmentation\n",
        "\n",
        "For this experiment we will continue to use the original spec augmentation config in the base model, however you may find better results by modifying the strength of this augmentation.\n",
        "\n",
        "**Note**: The script inside ASR examples **disables spec augment entirely**. This is done in order to provide a stable default to measure the best possible adaptation case, but may severely degrade the performance on general speech. Please be careful when copying the hyper parameters from the tutorial to the script for large scale experimentation."
      ]
    },
    {
      "cell_type": "code",
      "execution_count": null,
      "metadata": {
        "id": "T-XFuaA3OlOB"
      },
      "outputs": [],
      "source": [
        "with open_dict(model.cfg):\n",
        "  # Spec Augment\n",
        "  model.cfg.spec_augment.freq_masks = model.cfg.spec_augment.freq_masks  # Can be changed\n",
        "  model.cfg.spec_augment.freq_width = model.cfg.spec_augment.freq_width  # Can be changed\n",
        "  model.cfg.spec_augment.time_masks = model.cfg.spec_augment.time_masks  # Can be changed\n",
        "  model.cfg.spec_augment.time_width = model.cfg.spec_augment.time_width  # Can be changed\n",
        "\n",
        "model.spec_augmentation = model.from_config_dict(model.cfg.spec_augment)"
      ]
    },
    {
      "cell_type": "markdown",
      "metadata": {
        "id": "xGpdUWl_tGuA"
      },
      "source": [
        "## Setup optimizer and scheduler\n",
        "\n",
        "An interesting thing to note for adapters is their rapid convergence speed - they do not require hundreds of thousands of update steps (though that is also possible).\n",
        "\n",
        "For this reason, we have chosen hyperparameter settings that are significantly different from other tutorials - a small learning rate multiplier of 0.1 (for NoamScheduler) and a small warmup phase of just 100 steps (remember, trainer.max_steps is just 300!).\n",
        "\n",
        "Feel free to modify these values to see the effect on adapters' convergence.\n",
        "\n",
        "**Note**: The hyper parameters below correspond to the base model and may not match those applied in the ASR examples! Please note that the script the examples defaults to an **AdamW** optimizer with a **CosineAnnealing** scheduler, where as the config of Conformers is geneally a **AdamW** optimizer with a **NoamAnnealing** scheduler. The *learning rate*, *weight decay* and other hyper parameters may not be exactly the same between the tutorial and the example scripts, so please be careful when transferring the hyper parameters for large scale experiments."
      ]
    },
    {
      "cell_type": "code",
      "execution_count": null,
      "metadata": {
        "id": "UDEIfMTcP6j6"
      },
      "outputs": [],
      "source": [
        "if 'optim' in model.cfg:\n",
        "  print(OmegaConf.to_yaml(model.cfg.optim))"
      ]
    },
    {
      "cell_type": "code",
      "execution_count": null,
      "metadata": {
        "id": "tp_8FGPcKjMd"
      },
      "outputs": [],
      "source": [
        "with open_dict(model.cfg):\n",
        "  model.cfg.optim.lr = 0.1\n",
        "  model.cfg.optim.weight_decay = 0.0\n",
        "  model.cfg.optim.sched.warmup_steps = 100\n",
        "\n",
        "model.setup_optimization(model.cfg.optim);"
      ]
    },
    {
      "cell_type": "markdown",
      "metadata": {
        "id": "AGrThAt9Qh0D"
      },
      "source": [
        "# Adapters: Supported Components\n",
        "\n",
        "A NeMo model may have multiple types of adapters that are supported in each of their components. Let us see at a glance what are some of the adapter types supported by the Conformer ASR model.\n",
        "\n",
        "**Note**: Every domain may support their own types of adapters, and use them in different ways. Please refer to the documentation of each domain for information on the adapter support."
      ]
    },
    {
      "cell_type": "markdown",
      "metadata": {
        "id": "Wq1JLbNvROcL"
      },
      "source": [
        "-----\n",
        "Let's start with the modules in which the model will support adapters. We can select these adapters with a special syntax to construct \"Module adapters\".\n",
        "\n",
        "**Note**: `''` refers to the \"default\" adapter - usually the `encoder` but it is model dependent. It may also be that no specific modules are provided, in which case only `default` adapters will be available."
      ]
    },
    {
      "cell_type": "code",
      "execution_count": null,
      "metadata": {
        "id": "fRIDhU8RVBwi"
      },
      "outputs": [],
      "source": [
        "if hasattr(model, 'adapter_module_names'):\n",
        "  print(model.adapter_module_names)"
      ]
    },
    {
      "cell_type": "markdown",
      "metadata": {
        "id": "u5BOWWBjfQwN"
      },
      "source": [
        "-----\n",
        "Next, we can try to obtain the accepted types of each of the child modules in the Model."
      ]
    },
    {
      "cell_type": "code",
      "execution_count": null,
      "metadata": {
        "id": "iNnSp_azQ2u8"
      },
      "outputs": [],
      "source": [
        "for module in model.children():\n",
        "  if hasattr(module, 'get_accepted_adapter_types'):\n",
        "    types = module.get_accepted_adapter_types()\n",
        "    print(\"Module : \", module.__class__.__name__)\n",
        "\n",
        "    for tp in types:\n",
        "      print(tp)\n",
        "    print()"
      ]
    },
    {
      "cell_type": "markdown",
      "metadata": {
        "id": "YXTC4LiSnB2O"
      },
      "source": [
        "-----\n",
        "\n",
        "As you can see, a single component of the model may support one or more adapter types (or none at all)! Below, we will experiment with the simple Linear Adapters, but as an exercise, you might try to use other adapter types present here."
      ]
    },
    {
      "cell_type": "markdown",
      "metadata": {
        "id": "WFCUrYxnGPt3"
      },
      "source": [
        "# Adapters: Creation and Preparation\n",
        "\n",
        "Now that the data loaders have been prepared, the next step is to add the adapter modules to the model!\n",
        "\n",
        "----\n",
        "\n",
        "We first import a config for a basic `LinearAdapter` most often used in literature. \n",
        "\n",
        "`LinearAdapter` is a simple network comprising LayerNorm, a bottleneck Linear layer, an activation, and an upcast Linear layer (so that input and output channel dim match). We provide some configuration parameters (such as the input dim and the bottleneck dim)."
      ]
    },
    {
      "cell_type": "code",
      "execution_count": null,
      "metadata": {
        "id": "oZZr6vSntuyX"
      },
      "outputs": [],
      "source": [
        "from nemo.collections.common.parts.adapter_modules import LinearAdapterConfig"
      ]
    },
    {
      "cell_type": "code",
      "execution_count": null,
      "metadata": {
        "id": "dlj0Yud4MxOi"
      },
      "outputs": [],
      "source": [
        "#%% [code]\n",
        "#@title Adapter Setup { display-mode: \"form\" }\n",
        "adapter_name = \"AN4\" #@param {type:\"string\"}\n",
        "adapter_dim = 32 #@param {type:\"integer\"}\n",
        "adapter_activation = \"swish\" #@param {type:\"string\"}\n",
        "adapter_norm_position = \"pre\" #@param [\"pre\", \"post\"]"
      ]
    },
    {
      "cell_type": "code",
      "execution_count": null,
      "metadata": {
        "id": "Uv8WRQkXU3mu"
      },
      "outputs": [],
      "source": [
        "adapter_cfg = LinearAdapterConfig(\n",
        "    in_features=model.cfg.encoder.d_model,  # conformer specific model dim. Every layer emits this dim at its output.\n",
        "    dim=adapter_dim,  # the bottleneck dimension of the adapter\n",
        "    activation=adapter_activation,  # activation used in bottleneck block\n",
        "    norm_position=adapter_norm_position,  # whether to use LayerNorm at the beginning or the end of the adapter\n",
        ")\n",
        "print(adapter_cfg)"
      ]
    },
    {
      "cell_type": "markdown",
      "metadata": {
        "id": "pIECyKxit58r"
      },
      "source": [
        "## Add a new adapter module\n",
        "\n",
        "Now that our adapter config is ready. Next, we perform a check to see what is the size of the original model and what its size will be after adding the adapter module."
      ]
    },
    {
      "cell_type": "code",
      "execution_count": null,
      "metadata": {
        "id": "-MbSTbYiYtnB"
      },
      "outputs": [],
      "source": [
        "model.summarize()"
      ]
    },
    {
      "cell_type": "markdown",
      "metadata": {
        "id": "vjYmPbwCC0LZ"
      },
      "source": [
        "-----\n",
        "\n",
        "Next, we use `add_adapter` to add adapter blocks to the `encoder`.\n",
        "\n",
        "A single line can be used to add adapter modules to every layer of the `encoder` module. We pass it a unique name to identify this adapter and the adapter config (which can be helpful to enable or disable adapters later)."
      ]
    },
    {
      "cell_type": "code",
      "execution_count": null,
      "metadata": {
        "id": "El6ewd1GX9V7"
      },
      "outputs": [],
      "source": [
        "model.add_adapter(name=adapter_name, cfg=adapter_cfg)"
      ]
    },
    {
      "cell_type": "markdown",
      "metadata": {
        "id": "jMsmj1W-DTSd"
      },
      "source": [
        "-----\n",
        "\n",
        "As expected, the number of parameters increased by a marginal amount (roughly 200,000 parameters)."
      ]
    },
    {
      "cell_type": "code",
      "execution_count": null,
      "metadata": {
        "id": "rIvw0_8iYpHW"
      },
      "outputs": [],
      "source": [
        "model.summarize()"
      ]
    },
    {
      "cell_type": "markdown",
      "metadata": {
        "id": "RH6cXPW2ZHdZ"
      },
      "source": [
        "## Enable / Disable Adapters\n",
        "\n",
        "Now that we have adapter modules, we can enable or disable them as we require. \n",
        "\n",
        "For this purpose, we utilize the `model.set_enabled_adapters` method - it takes an optional `name` and a boolean value for `enabled`. If a name is not passed, it will set enable/disable all available adapters.\n",
        "\n",
        "**Note**: We recommend training one adapter at a time, disjoint from all other adapters. As such, it simplifies the selection of adapters for each particular domain. To do so - **disable all adapters first, then enable only the newly added adapter**."
      ]
    },
    {
      "cell_type": "code",
      "execution_count": null,
      "metadata": {
        "id": "ogUfDkjdZKHu"
      },
      "outputs": [],
      "source": [
        "model.set_enabled_adapters(enabled=False)  # disable all adapters\n",
        "model.set_enabled_adapters(name=adapter_name, enabled=True)  # enable only the current adapter we want to train"
      ]
    },
    {
      "cell_type": "markdown",
      "metadata": {
        "id": "V87SBzdDY1x1"
      },
      "source": [
        "## Training only the adapter(s)\n",
        "\n",
        "Now that we have enabled just the adapter we wish to adapt onto AN4 dataset, we must freeze all the other parameters of the network and train just the adapters.\n",
        "\n",
        "We provide the general utility methods for this purpose - `model.freeze()` and `model.unfreeze_enabled_adapters()`. \n",
        "\n",
        "The second method will look up all the enabled adapters selected in the previous step and enable their gradient calculation so that they can be trained."
      ]
    },
    {
      "cell_type": "code",
      "execution_count": null,
      "metadata": {
        "id": "RN2YayAoYzaI"
      },
      "outputs": [],
      "source": [
        "model.freeze()\n",
        "model.unfreeze_enabled_adapters()"
      ]
    },
    {
      "cell_type": "markdown",
      "metadata": {
        "id": "5PriDOuwEbmp"
      },
      "source": [
        "### Why are BatchNormalization layers being frozen?\n",
        "\n",
        "A side-note here regarding BatchNormalization - even when the model is frozen, while no gradient updates will occur to the beta and gamma parameters, **the moving averages of each batch norm layer continue to update**!\n",
        "\n",
        "Such updates cause a severe issue when we disable all the adapters - while technically, no parameters of the original model were updated since the moving averages of BatchNormalization were updated. You will have degraded performance on the original domain (even with all adapters disabled !).\n",
        "\n",
        "-----\n",
        "\n",
        "For this reason, `unfreeze_enabled_adapters()` has an argument `freeze_batchnorm=True` as the default. It will find all the batch normalization layers and disable this flag so that it will the encoder layers remain exactly frozen even during adapter finetuning. This allows the original model performance to be recovered.\n",
        "\n"
      ]
    },
    {
      "cell_type": "code",
      "execution_count": null,
      "metadata": {
        "id": "Lf3pdwQ2Zch5"
      },
      "outputs": [],
      "source": [
        "model.summarize()"
      ]
    },
    {
      "cell_type": "markdown",
      "metadata": {
        "id": "JI6C_TYGGgyZ"
      },
      "source": [
        "-----\n",
        "\n",
        "Here we see that after the above steps, we will be training just ~ 200,000 parameters out of a 10+ M parameter model."
      ]
    },
    {
      "cell_type": "code",
      "execution_count": null,
      "metadata": {
        "id": "w9ciIw-2bSHq"
      },
      "outputs": [],
      "source": [
        "# Prepare NeMo's Experiment manager to handle checkpoint saving and logging for us\n",
        "from nemo.utils import exp_manager\n",
        "\n",
        "# Environment variable generally used for multi-node multi-gpu training.\n",
        "# In notebook environments, this flag is unnecessary and can cause logs of multiple training runs to overwrite each other.\n",
        "os.environ.pop('NEMO_EXPM_VERSION', None)\n",
        "\n",
        "exp_config = exp_manager.ExpManagerConfig(\n",
        "    exp_dir=f'experiments/',\n",
        "    name=f\"ASR-Adapters\",\n",
        "    checkpoint_callback_params=exp_manager.CallbackParams(\n",
        "        monitor=\"val_wer\",\n",
        "        mode=\"min\",\n",
        "        always_save_nemo=True,\n",
        "        save_best_model=True,\n",
        "    ),\n",
        ")\n",
        "\n",
        "exp_config = OmegaConf.structured(exp_config)\n",
        "\n",
        "logdir = exp_manager.exp_manager(trainer, exp_config)"
      ]
    },
    {
      "cell_type": "code",
      "execution_count": null,
      "metadata": {
        "id": "cY2TJod3ZfyE"
      },
      "outputs": [],
      "source": [
        "# Finally, train the adapters\n",
        "trainer.fit(model)"
      ]
    },
    {
      "cell_type": "markdown",
      "metadata": {
        "id": "A82ylXSZuL1T"
      },
      "source": [
        "-----\n",
        "\n",
        "After training, save the final checkpoint to a nemo file to evaluate. We also save just the adapter module itself, as that is much smaller than the size of the full model."
      ]
    },
    {
      "cell_type": "code",
      "execution_count": null,
      "metadata": {
        "id": "7tDdE9lZbvhJ"
      },
      "outputs": [],
      "source": [
        "model.save_to(\"/content/adapted_model.nemo\")"
      ]
    },
    {
      "cell_type": "code",
      "execution_count": null,
      "metadata": {
        "id": "L9yO-M-oL3Cy"
      },
      "outputs": [],
      "source": [
        "model.save_adapters('/content/adapter_modules.pt')"
      ]
    },
    {
      "cell_type": "markdown",
      "metadata": {
        "id": "Ak9v58RmdNJT"
      },
      "source": [
        "# Evaluate the adapted model\n",
        "\n",
        "Now that we have finished the adaptation step and saved a trained NeMo file, we can evaluate the accuracy of our adapted model on the test set of AN4."
      ]
    },
    {
      "cell_type": "markdown",
      "metadata": {
        "id": "r-rjNJAvuZxu"
      },
      "source": [
        "## Evaluate the adapter-enabled model"
      ]
    },
    {
      "cell_type": "code",
      "execution_count": null,
      "metadata": {
        "id": "_Ps6_45mdJpM"
      },
      "outputs": [],
      "source": [
        "!python scripts/speech_to_text_eval.py \\\n",
        "  model_path=\"/content/adapted_model.nemo\" \\\n",
        "  dataset_manifest=$TEST_MANIFEST \\\n",
        "  output_filename=\"/content/adapted_predictions.json\" \\\n",
        "  batch_size=32 \\\n",
        "  use_cer=False"
      ]
    },
    {
      "cell_type": "markdown",
      "metadata": {
        "id": "MegsAIcQG5MJ"
      },
      "source": [
        "-----\n",
        "\n",
        "We could significantly improve the accuracy of this model on the AN4 dataset with a very short training schedule with a small number of parameters. \n",
        "\n",
        "**Note**: Since AN4 is a relatively simple dataset, the gains are very large in this example. We generally observe more modest improvements with such short training schedules on realistic datasets (but gains of this range are easily attainable with more data or precise training schedules to avoid overfitting)."
      ]
    },
    {
      "cell_type": "markdown",
      "metadata": {
        "id": "T6c_p530wMwG"
      },
      "source": [
        "Let us compare the adapted model's predictions below - "
      ]
    },
    {
      "cell_type": "code",
      "execution_count": null,
      "metadata": {
        "id": "vlK3PdMhtlv1"
      },
      "outputs": [],
      "source": [
        "print(\"Original\")\n",
        "!head -n 5 /content/unadapted_predictions.json\n",
        "print(\"Adapted\")\n",
        "!head -n 5 /content/adapted_predictions.json"
      ]
    },
    {
      "cell_type": "markdown",
      "metadata": {
        "id": "CCkH10jqd4q1"
      },
      "source": [
        "## Evaluate the adapter-disabled model\n",
        "\n",
        "Now, let us disable the adapters and recover the original performance of the model. We do this as a sanity test, to check that indeed the \"base\" model is still intact, even if adapter training has occurred."
      ]
    },
    {
      "cell_type": "code",
      "execution_count": null,
      "metadata": {
        "id": "1R6wHGgRdRKX"
      },
      "outputs": [],
      "source": [
        "model.set_enabled_adapters(enabled=False)\n",
        "model.save_to(\"/content/adapter_disabled_model.nemo\")"
      ]
    },
    {
      "cell_type": "code",
      "execution_count": null,
      "metadata": {
        "id": "IhGLtRwdeGRf"
      },
      "outputs": [],
      "source": [
        "!python scripts/speech_to_text_eval.py \\\n",
        "  model_path=\"/content/adapter_disabled_model.nemo\" \\\n",
        "  dataset_manifest=$TEST_MANIFEST \\\n",
        "  output_filename=\"/content/adapter_disabled_predictions.json\" \\\n",
        "  batch_size=32 \\\n",
        "  use_cer=False"
      ]
    },
    {
      "cell_type": "markdown",
      "metadata": {
        "id": "GGKgsW5gvAuf"
      },
      "source": [
        "# [EXTRA] Check that accuracy can be recovered after adaptation\n",
        "\n",
        "This is a more explicit test than simply checking the WER above - here we do sample by sample check to ensure that predicted text remains the same."
      ]
    },
    {
      "cell_type": "code",
      "execution_count": null,
      "metadata": {
        "id": "YFKN7QYuvBzP"
      },
      "outputs": [],
      "source": [
        "original_transcripts = read_manifest('/content/unadapted_predictions.json')\n",
        "adapter_disabled_transcripts = read_manifest('/content/adapter_disabled_predictions.json')\n",
        "\n",
        "for orig, new in zip(original_transcripts, adapter_disabled_transcripts):\n",
        "  match = orig['pred_text'] == new['pred_text']\n",
        "  if not match:\n",
        "    print(\"Sample did not match after disabling adapter !\")\n",
        "    print(\"Original = \", orig['pred_text'])\n",
        "    print(\"Adapters disabled = \", new['pred_text']) \n",
        "    print()"
      ]
    },
    {
      "cell_type": "markdown",
      "metadata": {
        "id": "0CqpJGR6ecYW"
      },
      "source": [
        "# [EXTRA] Add as many adapters as needed\n",
        "\n",
        "Now that we have showcased how to utilize adapters for domain adaptation, we can take this further and adapt even more datasets - as many as needed!\n",
        "\n",
        "There is no implicit restriction on how many adapters can be added, as shown below. Still, we do recommend freezing all adapters and training only one at a time to prevent cross-interaction between adapters."
      ]
    },
    {
      "cell_type": "code",
      "execution_count": null,
      "metadata": {
        "id": "13vZHFFEeK_g"
      },
      "outputs": [],
      "source": [
        "model.add_adapter(name=\"AN4-v2\", cfg=adapter_cfg)"
      ]
    },
    {
      "cell_type": "code",
      "execution_count": null,
      "metadata": {
        "id": "iOrJ72SUelp6"
      },
      "outputs": [],
      "source": [
        "model.set_enabled_adapters(enabled=False)\n",
        "model.set_enabled_adapters(name='AN4-v2', enabled=True)\n",
        "\n",
        "model.freeze()\n",
        "model.unfreeze_enabled_adapters()\n",
        "\n",
        "model.summarize()"
      ]
    },
    {
      "cell_type": "markdown",
      "metadata": {
        "id": "EIli6c_OvKDH"
      },
      "source": [
        "# Further reading\n",
        "\n",
        "For efficient scripts to add, train, and evaluate adapter augmented models, please refer to the [Adapters example section](https://github.com/NVIDIA/NeMo/tree/main/examples/asr/asr_adapters).\n",
        "\n",
        "Please follow the following articles that discuss the use of adapters in ASR - \n",
        "- [Exploiting Adapters for Cross-lingual Low-resource Speech Recognition](https://arxiv.org/abs/2105.11905)\n",
        "- [Efficient Adapter Transfer of Self-Supervised Speech Models for Automatic Speech Recognition](https://arxiv.org/abs/2202.03218)\n"
      ]
    }
  ],
  "metadata": {
    "accelerator": "GPU",
    "colab": {
      "collapsed_sections": [
        "dm-qqTdZDUlZ",
        "GGKgsW5gvAuf",
        "0CqpJGR6ecYW"
      ],
      "provenance": [],
      "toc_visible": true
    },
    "kernelspec": {
      "display_name": "nemo",
      "language": "python",
      "name": "python3"
    },
    "language_info": {
      "codemirror_mode": {
        "name": "ipython",
        "version": 3
      },
      "file_extension": ".py",
      "mimetype": "text/x-python",
      "name": "python",
      "nbconvert_exporter": "python",
      "pygments_lexer": "ipython3",
      "version": "3.10.12"
    }
  },
  "nbformat": 4,
  "nbformat_minor": 0
}
